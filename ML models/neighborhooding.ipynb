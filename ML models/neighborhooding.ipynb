{
 "cells": [
  {
   "cell_type": "code",
   "execution_count": null,
   "metadata": {
    "ExecuteTime": {
     "end_time": "2020-03-02T01:03:44.226499Z",
     "start_time": "2020-03-02T01:03:40.764677Z"
    }
   },
   "outputs": [],
   "source": [
    "import os\n",
    "\n",
    "import shapely\n",
    "\n",
    "import numpy as np # library to handle data in a vectorized manner\n",
    "\n",
    "import pandas as pd # library for data analsysis\n",
    "pd.set_option('display.max_columns', None)\n",
    "pd.set_option('display.max_rows', None)\n",
    "\n",
    "import json # library to handle JSON files\n",
    "from pprint import pprint # data pretty printer\n",
    "\n",
    "import requests # library to handle requests\n",
    "from bs4 import BeautifulSoup  # library to handle web scraping\n",
    "\n",
    "from geopy.geocoders import Nominatim # convert an address into latitude and longitude values\n",
    "\n",
    "import folium # map rendering library\n",
    "\n",
    "import matplotlib.cm as cm # Matplotlib and associated plotting modules\n",
    "import matplotlib.colors as colors # Matplotlib and associated plotting modules\n",
    "\n",
    "from pandas.io.json import json_normalize # tranform JSON file into a pandas dataframe\n",
    "\n",
    "from collections import Counter # count occurrences \n",
    "\n",
    "from sklearn.cluster import KMeans # import k-means from clustering stage\n"
   ]
  },
  {
   "cell_type": "code",
   "execution_count": null,
   "metadata": {
    "ExecuteTime": {
     "end_time": "2020-03-02T01:03:44.311303Z",
     "start_time": "2020-03-02T01:03:44.228471Z"
    }
   },
   "outputs": [],
   "source": [
    "# open & load downloaded file, print its type\n",
    "with open('static/Minneapolis_Neighborhoods.geojson') as json_data:\n",
    "    minneapolis_data = json.load(json_data)\n",
    "type(minneapolis_data)"
   ]
  },
  {
   "cell_type": "code",
   "execution_count": null,
   "metadata": {
    "ExecuteTime": {
     "end_time": "2020-03-02T01:03:44.375781Z",
     "start_time": "2020-03-02T01:03:44.313784Z"
    }
   },
   "outputs": [],
   "source": [
    "print (\"minneapolis_data key and value's length are: \") \n",
    "for key, value in minneapolis_data.items(): \n",
    "    print (key, len(str(value)))"
   ]
  },
  {
   "cell_type": "code",
   "execution_count": null,
   "metadata": {
    "ExecuteTime": {
     "end_time": "2020-03-02T01:03:44.393142Z",
     "start_time": "2020-03-02T01:03:44.377767Z"
    }
   },
   "outputs": [],
   "source": [
    "neighborhoods_data = minneapolis_data['features']\n",
    "pprint(neighborhoods_data[0])"
   ]
  },
  {
   "cell_type": "code",
   "execution_count": null,
   "metadata": {
    "ExecuteTime": {
     "end_time": "2020-03-02T01:03:44.423399Z",
     "start_time": "2020-03-02T01:03:44.398105Z"
    }
   },
   "outputs": [],
   "source": [
    "column_names = ['Neighborhood', 'Latitude','Longitude'] \n",
    "\n",
    "# instantiate the dataframe\n",
    "neighborhoods = pd.DataFrame(columns=column_names)\n",
    "neighborhoods"
   ]
  },
  {
   "cell_type": "code",
   "execution_count": null,
   "metadata": {
    "ExecuteTime": {
     "end_time": "2020-03-02T01:03:44.609399Z",
     "start_time": "2020-03-02T01:03:44.426871Z"
    }
   },
   "outputs": [],
   "source": [
    "for data in neighborhoods_data:\n",
    "    neighborhood_name = data['properties']['BDNAME']\n",
    "    neighborhood_lat = data['geometry']['coordinates'][0][0][1]\n",
    "    neighborhood_lon = data['geometry']['coordinates'][0][0][0]\n",
    "    \n",
    "    neighborhoods = neighborhoods.append({'Neighborhood': neighborhood_name,\n",
    "                                          'Latitude': neighborhood_lat, 'Longitude':neighborhood_lon}, ignore_index=True)"
   ]
  },
  {
   "cell_type": "code",
   "execution_count": null,
   "metadata": {
    "ExecuteTime": {
     "end_time": "2020-03-02T01:03:44.627255Z",
     "start_time": "2020-03-02T01:03:44.612871Z"
    }
   },
   "outputs": [],
   "source": [
    "neighborhoods.head()"
   ]
  },
  {
   "cell_type": "code",
   "execution_count": null,
   "metadata": {
    "ExecuteTime": {
     "end_time": "2020-03-02T01:03:45.187292Z",
     "start_time": "2020-03-02T01:03:44.630232Z"
    }
   },
   "outputs": [],
   "source": [
    "address = 'Minneapolis, MN'\n",
    "location = None\n",
    "\n",
    "# define an instance of the geocoder -> ny_explorer\n",
    "while location == None:\n",
    "    try:\n",
    "        geolocator = Nominatim(user_agent=\"mp_explorer\")\n",
    "        location = geolocator.geocode(address)\n",
    "        latitude = location.latitude\n",
    "        longitude = location.longitude\n",
    "    except:\n",
    "        pass\n",
    "print('The geograpical coordinate of Minneapolis.MN are {}, {}.'.format(latitude, longitude))"
   ]
  },
  {
   "cell_type": "code",
   "execution_count": null,
   "metadata": {
    "ExecuteTime": {
     "end_time": "2020-03-02T01:03:45.419422Z",
     "start_time": "2020-03-02T01:03:45.189774Z"
    }
   },
   "outputs": [],
   "source": [
    "# create map of New York using latitude and longitude values\n",
    "map_minneapolis = folium.Map(location=[latitude, longitude], zoom_start=10)\n",
    "\n",
    "# add markers to map\n",
    "for lat, lng, neighborhood in zip(neighborhoods['Latitude'], neighborhoods['Longitude'], neighborhoods['Neighborhood']):\n",
    "    label = '{}'.format(neighborhood)\n",
    "    label = folium.Popup(label, parse_html=True)\n",
    "    folium.CircleMarker(\n",
    "        [lat, lng],\n",
    "        radius=5,\n",
    "        popup=label,\n",
    "        color='blue',\n",
    "        fill=True,\n",
    "        fill_color='#3186cc',\n",
    "        fill_opacity=0.7,\n",
    "        parse_html=False).add_to(map_minneapolis)\n",
    "\n",
    "map_minneapolis"
   ]
  },
  {
   "cell_type": "code",
   "execution_count": null,
   "metadata": {
    "ExecuteTime": {
     "end_time": "2020-03-02T01:03:45.428846Z",
     "start_time": "2020-03-02T01:03:45.422896Z"
    }
   },
   "outputs": [],
   "source": [
    "CLIENT_ID = 'FHL1NZTKNDIXDSZR0AIPDW2WQX0RZTJNRY0IUMMXB5E5CTHC' # your Foursquare ID\n",
    "CLIENT_SECRET = '0SAYOXRSKX0HW10ZYDPDCVKLUGBVJNJRELOSGEXKNV5TGV1B' # your Foursquare Secret\n",
    "VERSION = '20180605' # Foursquare API version\n",
    "\n",
    "print('Your credentials:')\n",
    "print('CLIENT_ID: ' + CLIENT_ID)\n",
    "print('CLIENT_SECRET:' + CLIENT_SECRET)"
   ]
  },
  {
   "cell_type": "code",
   "execution_count": null,
   "metadata": {
    "ExecuteTime": {
     "end_time": "2020-03-02T01:03:45.705753Z",
     "start_time": "2020-03-02T01:03:45.432317Z"
    }
   },
   "outputs": [],
   "source": [
    "url = 'https://api.foursquare.com/v2/venues/categories?&client_id={}&client_secret={}&v={}'.format(\n",
    "    CLIENT_ID, \n",
    "    CLIENT_SECRET, \n",
    "    VERSION)\n",
    "category_results = requests.get(url).json()"
   ]
  },
  {
   "cell_type": "code",
   "execution_count": null,
   "metadata": {
    "ExecuteTime": {
     "end_time": "2020-03-02T01:03:45.712710Z",
     "start_time": "2020-03-02T01:03:45.707252Z"
    }
   },
   "outputs": [],
   "source": [
    "for key, value in category_results['response']['categories'][0].items():\n",
    "    print(key, len(str(value)))"
   ]
  },
  {
   "cell_type": "code",
   "execution_count": null,
   "metadata": {
    "ExecuteTime": {
     "end_time": "2020-03-02T01:03:45.719155Z",
     "start_time": "2020-03-02T01:03:45.714693Z"
    }
   },
   "outputs": [],
   "source": [
    "category_list = category_results['response']['categories']"
   ]
  },
  {
   "cell_type": "code",
   "execution_count": null,
   "metadata": {
    "ExecuteTime": {
     "end_time": "2020-03-02T01:03:45.725604Z",
     "start_time": "2020-03-02T01:03:45.720645Z"
    }
   },
   "outputs": [],
   "source": [
    "len(category_list)"
   ]
  },
  {
   "cell_type": "code",
   "execution_count": null,
   "metadata": {
    "ExecuteTime": {
     "end_time": "2020-03-02T01:03:45.732549Z",
     "start_time": "2020-03-02T01:03:45.727589Z"
    }
   },
   "outputs": [],
   "source": [
    "for data in category_list:\n",
    "    print(data['id'], data['name'])"
   ]
  },
  {
   "cell_type": "code",
   "execution_count": null,
   "metadata": {
    "ExecuteTime": {
     "end_time": "2020-03-02T01:03:45.740484Z",
     "start_time": "2020-03-02T01:03:45.735028Z"
    }
   },
   "outputs": [],
   "source": [
    "# function to flatten a 'parent_id' category, returns all categories if checkParentID = False\n",
    "def flatten_Hierarchy(category_list, checkParentID, category_dict, parent_id = ''):\n",
    "    for data in category_list:\n",
    "        \n",
    "        if checkParentID == True and data['id'] == parent_id:\n",
    "            category_dict[data['id']] = data['name']\n",
    "            flatten_Hierarchy(category_list = data['categories'], checkParentID = False, category_dict = category_dict)\n",
    "        \n",
    "        elif checkParentID == False:\n",
    "            category_dict[data['id']] = data['name']\n",
    "            if len(data['categories']) != 0:\n",
    "                flatten_Hierarchy(category_list = data['categories'], checkParentID = False, category_dict = category_dict)\n",
    "    \n",
    "    return category_dict"
   ]
  },
  {
   "cell_type": "code",
   "execution_count": null,
   "metadata": {
    "ExecuteTime": {
     "end_time": "2020-03-02T01:03:45.746435Z",
     "start_time": "2020-03-02T01:03:45.742468Z"
    }
   },
   "outputs": [],
   "source": [
    "# this function takes the parent ID and returns 'name' and 'id' of all the sub-categories\n",
    "category_dict = flatten_Hierarchy(category_list, checkParentID=True, category_dict = {}, parent_id = '4d4b7105d754a06374d81259')"
   ]
  },
  {
   "cell_type": "code",
   "execution_count": null,
   "metadata": {
    "ExecuteTime": {
     "end_time": "2020-03-02T01:03:45.755364Z",
     "start_time": "2020-03-02T01:03:45.748916Z"
    }
   },
   "outputs": [],
   "source": [
    "neighborhoods.loc[0, 'Neighborhood']"
   ]
  },
  {
   "cell_type": "code",
   "execution_count": null,
   "metadata": {
    "ExecuteTime": {
     "end_time": "2020-03-02T01:03:45.762309Z",
     "start_time": "2020-03-02T01:03:45.756356Z"
    }
   },
   "outputs": [],
   "source": [
    "neighborhood_latitude = neighborhoods.loc[0, 'Latitude'] # neighborhood latitude value\n",
    "neighborhood_longitude = neighborhoods.loc[0, 'Longitude'] # neighborhood longitude value\n",
    "\n",
    "neighborhood_name = neighborhoods.loc[0, 'Neighborhood'] # neighborhood name\n",
    "\n",
    "print('Latitude and longitude values of {} are {}, {}.'.format(neighborhood_name, \n",
    "                                                               neighborhood_latitude, \n",
    "                                                               neighborhood_longitude))"
   ]
  },
  {
   "cell_type": "code",
   "execution_count": null,
   "metadata": {
    "ExecuteTime": {
     "end_time": "2020-03-02T01:03:45.772725Z",
     "start_time": "2020-03-02T01:03:45.764308Z"
    }
   },
   "outputs": [],
   "source": [
    "LIMIT = 1 # limit of number of venues returned by Foursquare API\n",
    "radius = 500 # define radius\n",
    "categoryId = '4d4b7105d754a06374d81259' # category ID for \"Food\"\n",
    "\n",
    "# create URL\n",
    "\n",
    "url = 'https://api.foursquare.com/v2/venues/search?&client_id={}&client_secret={}&v={}&ll={},{}&radius={}&categoryId={}&limit={}'.format(\n",
    "    CLIENT_ID, \n",
    "    CLIENT_SECRET, \n",
    "    VERSION, \n",
    "    neighborhood_latitude, \n",
    "    neighborhood_longitude, \n",
    "    radius,\n",
    "    categoryId,\n",
    "    LIMIT)\n",
    "url # display URL"
   ]
  },
  {
   "cell_type": "code",
   "execution_count": null,
   "metadata": {
    "ExecuteTime": {
     "end_time": "2020-03-02T01:03:45.960242Z",
     "start_time": "2020-03-02T01:03:45.774211Z"
    }
   },
   "outputs": [],
   "source": [
    "results = requests.get(url).json()"
   ]
  },
  {
   "cell_type": "code",
   "execution_count": null,
   "metadata": {
    "ExecuteTime": {
     "end_time": "2020-03-02T01:03:45.971652Z",
     "start_time": "2020-03-02T01:03:45.964211Z"
    }
   },
   "outputs": [],
   "source": [
    "results['response']['venues']"
   ]
  },
  {
   "cell_type": "code",
   "execution_count": null,
   "metadata": {
    "ExecuteTime": {
     "end_time": "2020-03-02T01:03:45.980579Z",
     "start_time": "2020-03-02T01:03:45.975617Z"
    }
   },
   "outputs": [],
   "source": [
    "categoryId_list = []\n",
    "for key, value in category_dict.items():\n",
    "    categoryId_list.append(key)\n",
    "categoryId = ','.join(categoryId_list)"
   ]
  },
  {
   "cell_type": "code",
   "execution_count": null,
   "metadata": {
    "ExecuteTime": {
     "end_time": "2020-03-02T01:03:45.995954Z",
     "start_time": "2020-03-02T01:03:45.986035Z"
    }
   },
   "outputs": [],
   "source": [
    "def getNearbyFood(names, latitudes, longitudes, radius=1000, LIMIT=500):\n",
    "    not_found = 0\n",
    "    print('***Start ', end='')\n",
    "    venues_list=[]\n",
    "    for name, lat, lng in zip(names, latitudes, longitudes):\n",
    "        print(' .', end='')\n",
    "            \n",
    "        # create the API request URL\n",
    "        url = 'https://api.foursquare.com/v2/venues/search?&client_id={}&client_secret={}&v={}&ll={},{}&radius={}&categoryId={}&limit={}'.format(\n",
    "            CLIENT_ID, \n",
    "            CLIENT_SECRET, \n",
    "            VERSION, \n",
    "            lat, \n",
    "            lng, \n",
    "            radius,\n",
    "            \"4d4b7105d754a06374d81259\", # \"Food\" category id\n",
    "            LIMIT)\n",
    "            \n",
    "        try:\n",
    "            # make the GET request\n",
    "            results = requests.get(url).json()['response']['venues']\n",
    "            \n",
    "            # return only relevant information for each nearby venue\n",
    "            venues_list.append([(\n",
    "                name, \n",
    "                lat, \n",
    "                lng, \n",
    "                v['name'], \n",
    "                v['location']['lat'], \n",
    "                v['location']['lng'],  \n",
    "                v['categories'][0]['name']) for v in results])\n",
    "        except:\n",
    "            not_found += 1\n",
    "\n",
    "\n",
    "    nearby_venues = pd.DataFrame([item for venue_list in venues_list for item in venue_list])\n",
    "    nearby_venues.columns = ['Neighborhood', \n",
    "                  'Neighborhood Latitude', \n",
    "                  'Neighborhood Longitude', \n",
    "                  'Venue', \n",
    "                  'Venue Latitude', \n",
    "                  'Venue Longitude', \n",
    "                  'Venue Category']\n",
    "    print(\"\\nDone*** with {} venues with incompelete information.\".format(not_found))\n",
    "    return(nearby_venues)"
   ]
  },
  {
   "cell_type": "code",
   "execution_count": null,
   "metadata": {
    "ExecuteTime": {
     "end_time": "2020-03-02T01:03:46.020258Z",
     "start_time": "2020-03-02T01:03:45.998931Z"
    }
   },
   "outputs": [],
   "source": [
    "import pickle # to serialize and deserialize a Python object structure\n",
    "try:\n",
    "    with open('minneapolis_food_venues.pkl', 'rb') as f:\n",
    "        minneapolis_venues = pickle.load(f)\n",
    "    print(\"---Dataframe Existed and Deserialized---\")\n",
    "except:\n",
    "    minneapolis_venues = getNearbyFood(names=neighborhoods['Neighborhood'],\n",
    "                                        latitudes=neighborhoods['Latitude'],\n",
    "                                        longitudes=neighborhoods['Longitude']\n",
    "                                       )\n",
    "    with open('minneapolis_food_venues.pkl', 'wb') as f:\n",
    "        pickle.dump(minneapolis_venues, f)\n",
    "    print(\"---Dataframe Created and Serialized---\")"
   ]
  },
  {
   "cell_type": "code",
   "execution_count": null,
   "metadata": {
    "ExecuteTime": {
     "end_time": "2020-03-02T01:03:46.035137Z",
     "start_time": "2020-03-02T01:03:46.021746Z"
    }
   },
   "outputs": [],
   "source": [
    "print(minneapolis_venues.shape)\n",
    "minneapolis_venues.head()"
   ]
  },
  {
   "cell_type": "code",
   "execution_count": null,
   "metadata": {
    "ExecuteTime": {
     "end_time": "2020-03-02T01:03:46.052500Z",
     "start_time": "2020-03-02T01:03:46.038610Z"
    }
   },
   "outputs": [],
   "source": [
    "print('There are {} uniques categories.'.format(len(minneapolis_venues['Venue Category'].unique())))\n",
    "minneapolis_venues.groupby('Venue Category')['Venue Category'].count().sort_values(ascending=False)"
   ]
  },
  {
   "cell_type": "code",
   "execution_count": null,
   "metadata": {
    "ExecuteTime": {
     "end_time": "2020-03-02T01:03:46.061921Z",
     "start_time": "2020-03-02T01:03:46.055970Z"
    }
   },
   "outputs": [],
   "source": [
    "# list all the categories\n",
    "unique_categories = minneapolis_venues['Venue Category'].unique().tolist()\n",
    "print(', '.join(str(x) for x in unique_categories))"
   ]
  },
  {
   "cell_type": "code",
   "execution_count": null,
   "metadata": {
    "ExecuteTime": {
     "end_time": "2020-03-02T01:03:46.076802Z",
     "start_time": "2020-03-02T01:03:46.064898Z"
    }
   },
   "outputs": [],
   "source": [
    "# manually create a list of generalized categories\n",
    "general_categories = ['Dessert Shop','Food','Bakery','Comfort Food Restaurant',\n",
    "                    'Deli / Bodega','Food Truck','Restaurant','Frozen Yogurt Shop','Coffee Shop',\n",
    "                    'Diner','Café','Juice Bar','Breakfast Spot','Grocery Store','Bar','Cupcake Shop',\n",
    "                    'Pub','Cafeteria','Other Nightlife','Arcade','Hot Dog Joint','Food Court',\n",
    "                    'Health Food Store','Convenience Store','Food & Drink Shop','Cocktail Bar','Cheese Shop',\n",
    "                    'Snack Place','Sports Bar','Lounge','Theme Restaurant','Buffet','Bubble Tea Shop','Building',\n",
    "                    'Irish Pub','College Cafeteria','Tea Room','Supermarket','Hotpot Restaurant','Gastropub','Beer Garden',\n",
    "                    'Fish Market','Beer Bar','Clothing Store','Music Venue','Bistro','Salad Place','Wine Bar','Gourmet Shop',\n",
    "                    'Indie Movie Theater','Art Gallery','Gift Shop','Pie Shop','Fruit & Vegetable Store',\n",
    "                    'Street Food Gathering','Dive Bar','Factory','Farmers Market','Creperie',\n",
    "                    'Candy Store','Event Space','Skating Rink','Miscellaneous Shop','Gas Station','Organic Grocery',\n",
    "                    'Pastry Shop','Club House','Flea Market','Hotel','Furniture / Home Store','Bookstore','Pet Café',\n",
    "                    'Gym / Fitness Center','Flower Shop','Financial or Legal Service','Hotel Bar','Hookah Bar',\n",
    "                    'Market','Gluten-free Restaurant','Smoothie Shop','Butcher','Food Stand','Beach Bar','Beach',\n",
    "                    'Soup Place','Rock Club','Residential Building (Apartment / Condo)','Laundry Service',\n",
    "                    'Government Building','Bowling Alley','Nightclub','Park','Moving Target','Gay Bar', 'Racetrack','College Residence Hall',\n",
    "                    'Office', 'Hospital', 'Ski Area', 'Food Service', 'Shopping Mall','Liquor Store', 'Bike Shop', 'Acupuncturist',\n",
    "                    'Karaoke Bar', 'Church']"
   ]
  },
  {
   "cell_type": "code",
   "execution_count": null,
   "metadata": {
    "ExecuteTime": {
     "end_time": "2020-03-02T01:03:46.087714Z",
     "start_time": "2020-03-02T01:03:46.079281Z"
    }
   },
   "outputs": [],
   "source": [
    "# fetch all the required food categories\n",
    "food_categories =  list(set(unique_categories) - set(general_categories))\n",
    "print(', '.join(str(x) for x in food_categories))"
   ]
  },
  {
   "cell_type": "code",
   "execution_count": null,
   "metadata": {
    "ExecuteTime": {
     "end_time": "2020-03-02T01:03:46.114003Z",
     "start_time": "2020-03-02T01:03:46.091682Z"
    }
   },
   "outputs": [],
   "source": [
    "minneapolis_venues = minneapolis_venues[minneapolis_venues['Venue Category'].isin(food_categories)].reset_index()\n",
    "minneapolis_venues.head(5)"
   ]
  },
  {
   "cell_type": "code",
   "execution_count": null,
   "metadata": {
    "ExecuteTime": {
     "end_time": "2020-03-02T01:03:46.122433Z",
     "start_time": "2020-03-02T01:03:46.116977Z"
    }
   },
   "outputs": [],
   "source": [
    "print('There are {} unique FOOD categories.'.format(len(minneapolis_venues['Venue Category'].unique())))"
   ]
  },
  {
   "cell_type": "code",
   "execution_count": null,
   "metadata": {
    "ExecuteTime": {
     "end_time": "2020-03-02T01:03:46.130865Z",
     "start_time": "2020-03-02T01:03:46.125412Z"
    }
   },
   "outputs": [],
   "source": [
    "print('There are {} uniques venues.'.format(len(minneapolis_venues['Venue'].unique())))"
   ]
  },
  {
   "cell_type": "code",
   "execution_count": null,
   "metadata": {
    "ExecuteTime": {
     "end_time": "2020-03-02T01:03:46.176003Z",
     "start_time": "2020-03-02T01:03:46.133842Z"
    }
   },
   "outputs": [],
   "source": [
    "# one hot encoding\n",
    "minneapolis_onehot = pd.get_dummies(minneapolis_venues[['Venue Category']], prefix=\"\", prefix_sep=\"\")\n",
    "minneapolis_onehot.head()"
   ]
  },
  {
   "cell_type": "code",
   "execution_count": null,
   "metadata": {
    "ExecuteTime": {
     "end_time": "2020-03-02T01:03:46.209233Z",
     "start_time": "2020-03-02T01:03:46.177491Z"
    }
   },
   "outputs": [],
   "source": [
    "# add neighborhood column back to dataframe\n",
    "minneapolis_onehot['Neighborhood'] = minneapolis_venues['Neighborhood'] \n",
    "minneapolis_onehot.head()"
   ]
  },
  {
   "cell_type": "code",
   "execution_count": null,
   "metadata": {
    "ExecuteTime": {
     "end_time": "2020-03-02T01:03:46.244947Z",
     "start_time": "2020-03-02T01:03:46.211217Z"
    }
   },
   "outputs": [],
   "source": [
    "# move neighborhood column to the first column\n",
    "Neighborhood = minneapolis_onehot['Neighborhood']\n",
    "\n",
    "minneapolis_onehot.drop(labels=['Neighborhood'], axis=1,inplace = True)\n",
    "minneapolis_onehot.insert(0, 'Neighborhood', Neighborhood)\n",
    "\n",
    "minneapolis_onehot.head()"
   ]
  },
  {
   "cell_type": "code",
   "execution_count": null,
   "metadata": {
    "ExecuteTime": {
     "end_time": "2020-03-02T01:03:46.253876Z",
     "start_time": "2020-03-02T01:03:46.247430Z"
    }
   },
   "outputs": [],
   "source": [
    "minneapolis_onehot.shape"
   ]
  },
  {
   "cell_type": "code",
   "execution_count": null,
   "metadata": {
    "ExecuteTime": {
     "end_time": "2020-03-02T01:03:46.422017Z",
     "start_time": "2020-03-02T01:03:46.256355Z"
    }
   },
   "outputs": [],
   "source": [
    "venue_counts = minneapolis_onehot.groupby('Neighborhood').sum()\n",
    "venue_counts"
   ]
  },
  {
   "cell_type": "code",
   "execution_count": null,
   "metadata": {
    "ExecuteTime": {
     "end_time": "2020-03-02T01:03:46.584706Z",
     "start_time": "2020-03-02T01:03:46.424001Z"
    }
   },
   "outputs": [],
   "source": [
    "venue_counts_described = venue_counts.describe().transpose()"
   ]
  },
  {
   "cell_type": "code",
   "execution_count": null,
   "metadata": {
    "ExecuteTime": {
     "end_time": "2020-03-02T01:03:46.610994Z",
     "start_time": "2020-03-02T01:03:46.586194Z"
    }
   },
   "outputs": [],
   "source": [
    "venue_top10 = venue_counts_described.sort_values('max', ascending=False)[0:200]\n",
    "venue_top10"
   ]
  },
  {
   "cell_type": "code",
   "execution_count": null,
   "metadata": {
    "ExecuteTime": {
     "end_time": "2020-03-02T01:03:46.615954Z",
     "start_time": "2020-03-02T01:03:46.612481Z"
    }
   },
   "outputs": [],
   "source": [
    "venue_top10_list = venue_top10.index.values.tolist()"
   ]
  },
  {
   "cell_type": "code",
   "execution_count": null,
   "metadata": {
    "ExecuteTime": {
     "end_time": "2020-03-02T01:03:47.943848Z",
     "start_time": "2020-03-02T01:03:46.617938Z"
    }
   },
   "outputs": [],
   "source": [
    "import seaborn as sns\n",
    "import matplotlib.pyplot as plt\n",
    "\n",
    "fig, axes =plt.subplots(5, 2, figsize=(20,20), sharex=True)\n",
    "axes = axes.flatten()\n",
    "\n",
    "for ax, category in zip(axes, venue_top10_list):\n",
    "    data = venue_counts[[category]].sort_values([category], ascending=False)[0:10]\n",
    "    pal = sns.color_palette(\"Blues\", len(data))\n",
    "    sns.barplot(x=category, y=data.index, data=data, ax=ax, palette=np.array(pal[::-1]))\n",
    "\n",
    "plt.tight_layout()\n",
    "plt.show();"
   ]
  },
  {
   "cell_type": "code",
   "execution_count": null,
   "metadata": {
    "ExecuteTime": {
     "end_time": "2020-03-02T01:03:48.007337Z",
     "start_time": "2020-03-02T01:03:47.945335Z"
    }
   },
   "outputs": [],
   "source": [
    "minneapolis_grouped = minneapolis_onehot.groupby('Neighborhood').mean().reset_index()\n",
    "minneapolis_grouped.head()"
   ]
  },
  {
   "cell_type": "code",
   "execution_count": null,
   "metadata": {
    "ExecuteTime": {
     "end_time": "2020-03-02T01:03:48.014281Z",
     "start_time": "2020-03-02T01:03:48.008823Z"
    }
   },
   "outputs": [],
   "source": [
    "minneapolis_grouped.shape"
   ]
  },
  {
   "cell_type": "code",
   "execution_count": null,
   "metadata": {
    "ExecuteTime": {
     "end_time": "2020-03-02T01:03:48.022216Z",
     "start_time": "2020-03-02T01:03:48.016263Z"
    }
   },
   "outputs": [],
   "source": [
    "def return_most_common_venues(row, num_top_venues):\n",
    "    row_categories = row.iloc[1:]\n",
    "    row_categories_sorted = row_categories.sort_values(ascending=False)\n",
    "    \n",
    "    return row_categories_sorted.index.values[0:num_top_venues]"
   ]
  },
  {
   "cell_type": "code",
   "execution_count": null,
   "metadata": {
    "ExecuteTime": {
     "end_time": "2020-03-02T01:03:48.031638Z",
     "start_time": "2020-03-02T01:03:48.025193Z"
    }
   },
   "outputs": [],
   "source": [
    "num_top_venues = 5\n",
    "\n",
    "indicators = ['st', 'nd', 'rd']\n",
    "\n",
    "# create columns according to number of top venues\n",
    "columns = ['Neighborhood']\n",
    "for ind in np.arange(num_top_venues):\n",
    "    try:\n",
    "        columns.append('{}{} Most Common Venue'.format(ind+1, indicators[ind]))\n",
    "    except:\n",
    "        columns.append('{}th Most Common Venue'.format(ind+1))  "
   ]
  },
  {
   "cell_type": "code",
   "execution_count": null,
   "metadata": {
    "ExecuteTime": {
     "end_time": "2020-03-02T01:03:48.042553Z",
     "start_time": "2020-03-02T01:03:48.033622Z"
    }
   },
   "outputs": [],
   "source": [
    "# create a new dataframe\n",
    "neighborhoods_venues_sorted = pd.DataFrame(columns=columns)\n",
    "neighborhoods_venues_sorted['Neighborhood'] = minneapolis_grouped['Neighborhood']"
   ]
  },
  {
   "cell_type": "code",
   "execution_count": null,
   "metadata": {
    "ExecuteTime": {
     "end_time": "2020-03-02T01:03:48.203751Z",
     "start_time": "2020-03-02T01:03:48.046022Z"
    }
   },
   "outputs": [],
   "source": [
    "for ind in np.arange(minneapolis_grouped.shape[0]):\n",
    "    neighborhoods_venues_sorted.iloc[ind, 1:] = return_most_common_venues(minneapolis_grouped.iloc[ind, :], num_top_venues)\n",
    "\n",
    "neighborhoods_venues_sorted"
   ]
  },
  {
   "cell_type": "code",
   "execution_count": null,
   "metadata": {
    "ExecuteTime": {
     "end_time": "2020-03-02T01:03:48.213177Z",
     "start_time": "2020-03-02T01:03:48.207224Z"
    }
   },
   "outputs": [],
   "source": [
    "minneapolis_grouped_clustering = minneapolis_grouped.drop('Neighborhood', 1)"
   ]
  },
  {
   "cell_type": "code",
   "execution_count": null,
   "metadata": {
    "ExecuteTime": {
     "end_time": "2020-03-02T01:03:52.572570Z",
     "start_time": "2020-03-02T01:03:48.215160Z"
    }
   },
   "outputs": [],
   "source": [
    "sum_of_squared_distances = []\n",
    "K = range(1,50)\n",
    "for k in K:\n",
    "    print(k, end=' ')\n",
    "    kmeans = KMeans(n_clusters=k).fit(minneapolis_grouped_clustering)\n",
    "    sum_of_squared_distances.append(kmeans.inertia_)"
   ]
  },
  {
   "cell_type": "code",
   "execution_count": null,
   "metadata": {
    "ExecuteTime": {
     "end_time": "2020-03-02T01:03:52.844874Z",
     "start_time": "2020-03-02T01:03:52.575049Z"
    }
   },
   "outputs": [],
   "source": [
    "plt.plot(K, sum_of_squared_distances, 'bx-')\n",
    "plt.xlabel('k')\n",
    "plt.ylabel('sum_of_squared_distances')\n",
    "plt.title('Elbow Method For Optimal k');"
   ]
  },
  {
   "cell_type": "code",
   "execution_count": null,
   "metadata": {
    "ExecuteTime": {
     "end_time": "2020-03-02T01:03:57.784042Z",
     "start_time": "2020-03-02T01:03:52.847355Z"
    }
   },
   "outputs": [],
   "source": [
    "from sklearn.metrics import silhouette_score\n",
    "\n",
    "sil = []\n",
    "K_sil = range(2,50)\n",
    "# minimum 2 clusters required, to define dissimilarity\n",
    "for k in K_sil:\n",
    "    print(k, end=' ')\n",
    "    kmeans = KMeans(n_clusters = k).fit(minneapolis_grouped_clustering)\n",
    "    labels = kmeans.labels_\n",
    "    sil.append(silhouette_score(minneapolis_grouped_clustering, labels, metric = 'euclidean'))"
   ]
  },
  {
   "cell_type": "code",
   "execution_count": null,
   "metadata": {
    "ExecuteTime": {
     "end_time": "2020-03-02T01:03:57.962107Z",
     "start_time": "2020-03-02T01:03:57.786027Z"
    }
   },
   "outputs": [],
   "source": [
    "plt.plot(K_sil, sil, 'bx-')\n",
    "plt.xlabel('k')\n",
    "plt.ylabel('silhouette_score')\n",
    "plt.title('Silhouette Method For Optimal k')\n",
    "plt.show()"
   ]
  },
  {
   "cell_type": "code",
   "execution_count": null,
   "metadata": {
    "ExecuteTime": {
     "end_time": "2020-03-02T01:03:58.160011Z",
     "start_time": "2020-03-02T01:03:57.963596Z"
    }
   },
   "outputs": [],
   "source": [
    "# set number of clusters\n",
    "kclusters = 8\n",
    "\n",
    "# run k-means clustering\n",
    "kmeans = KMeans(init=\"k-means++\", n_clusters=kclusters, n_init=50).fit(minneapolis_grouped_clustering)\n",
    "\n",
    "print(Counter(kmeans.labels_))"
   ]
  },
  {
   "cell_type": "code",
   "execution_count": null,
   "metadata": {
    "ExecuteTime": {
     "end_time": "2020-03-02T01:03:58.168443Z",
     "start_time": "2020-03-02T01:03:58.162491Z"
    }
   },
   "outputs": [],
   "source": [
    "# add clustering labels\n",
    "try:\n",
    "    neighborhoods_venues_sorted.drop('Cluster Labels', axis=1)\n",
    "except:\n",
    "    neighborhoods_venues_sorted.insert(0, 'Cluster Labels', kmeans.labels_)"
   ]
  },
  {
   "cell_type": "code",
   "execution_count": null,
   "metadata": {
    "ExecuteTime": {
     "end_time": "2020-03-02T01:03:58.187290Z",
     "start_time": "2020-03-02T01:03:58.170923Z"
    }
   },
   "outputs": [],
   "source": [
    "neighborhoods_venues_sorted.head(5)"
   ]
  },
  {
   "cell_type": "code",
   "execution_count": null,
   "metadata": {
    "ExecuteTime": {
     "end_time": "2020-03-02T01:03:58.214077Z",
     "start_time": "2020-03-02T01:03:58.190267Z"
    }
   },
   "outputs": [],
   "source": [
    "# merge neighborhoods_venues_sorted with nyc_data to add latitude/longitude for each neighborhood\n",
    "minneapolis_merged = neighborhoods_venues_sorted.join(neighborhoods.set_index('Neighborhood'), on='Neighborhood')\n",
    "minneapolis_merged.head()"
   ]
  },
  {
   "cell_type": "code",
   "execution_count": null,
   "metadata": {
    "ExecuteTime": {
     "end_time": "2020-03-02T01:03:58.409996Z",
     "start_time": "2020-03-02T01:03:58.216555Z"
    }
   },
   "outputs": [],
   "source": [
    "# create map\n",
    "map_clusters = folium.Map(location=[latitude, longitude], zoom_start=10)\n",
    "\n",
    "# set color scheme for the clusters\n",
    "colors_array = cm.rainbow(np.linspace(0, 1, kclusters))\n",
    "rainbow = [colors.rgb2hex(i) for i in colors_array]\n",
    "\n",
    "# add markers to the map\n",
    "markers_colors = []\n",
    "for lat, lon, poi, cluster in zip(minneapolis_merged['Latitude'], minneapolis_merged['Longitude'], minneapolis_merged['Neighborhood'], minneapolis_merged['Cluster Labels']):\n",
    "    label = folium.Popup(str(poi) + ' Cluster ' + str(cluster), parse_html=True)\n",
    "    folium.CircleMarker(\n",
    "        [lat, lon],\n",
    "        radius=5,\n",
    "        popup=label,\n",
    "        color=rainbow[cluster-1],\n",
    "        fill=True,\n",
    "        fill_color=rainbow[cluster-1],\n",
    "        fill_opacity=0.7).add_to(map_clusters)\n",
    "       \n",
    "map_clusters"
   ]
  },
  {
   "cell_type": "code",
   "execution_count": null,
   "metadata": {
    "ExecuteTime": {
     "end_time": "2020-03-02T01:03:58.418428Z",
     "start_time": "2020-03-02T01:03:58.412475Z"
    }
   },
   "outputs": [],
   "source": [
    "required_column_indices = [2,3,4]\n",
    "required_column = [list(minneapolis_merged.columns.values)[i] for i in required_column_indices]\n",
    "required_column_indices = [2,3,4]"
   ]
  },
  {
   "cell_type": "code",
   "execution_count": null,
   "metadata": {
    "ExecuteTime": {
     "end_time": "2020-03-02T01:03:58.436282Z",
     "start_time": "2020-03-02T01:03:58.420909Z"
    }
   },
   "outputs": [],
   "source": [
    "cluster_0 = minneapolis_merged.loc[minneapolis_merged['Cluster Labels'] == 0, minneapolis_merged.columns[1:12]]\n",
    "cluster_0"
   ]
  },
  {
   "cell_type": "code",
   "execution_count": null,
   "metadata": {
    "ExecuteTime": {
     "end_time": "2020-03-02T01:03:58.448683Z",
     "start_time": "2020-03-02T01:03:58.438763Z"
    }
   },
   "outputs": [],
   "source": [
    "for col in required_column:\n",
    "    print(cluster_0[col].value_counts(ascending = False))\n",
    "    print(\"---------------------------------------------\")"
   ]
  },
  {
   "cell_type": "code",
   "execution_count": null,
   "metadata": {
    "ExecuteTime": {
     "end_time": "2020-03-02T01:03:58.473979Z",
     "start_time": "2020-03-02T01:03:58.451163Z"
    }
   },
   "outputs": [],
   "source": [
    "cluster_1 = minneapolis_merged.loc[minneapolis_merged['Cluster Labels'] == 1, minneapolis_merged.columns[1:12]]\n",
    "cluster_1"
   ]
  },
  {
   "cell_type": "code",
   "execution_count": null,
   "metadata": {
    "ExecuteTime": {
     "end_time": "2020-03-02T01:03:58.489851Z",
     "start_time": "2020-03-02T01:03:58.476956Z"
    }
   },
   "outputs": [],
   "source": [
    "for col in required_column:\n",
    "    print(cluster_1[col].value_counts(ascending = False))\n",
    "    print(\"---------------------------------------------\")"
   ]
  },
  {
   "cell_type": "code",
   "execution_count": null,
   "metadata": {
    "ExecuteTime": {
     "end_time": "2020-03-02T01:03:58.518619Z",
     "start_time": "2020-03-02T01:03:58.492331Z"
    }
   },
   "outputs": [],
   "source": [
    "cluster_2 = minneapolis_merged.loc[minneapolis_merged['Cluster Labels'] == 2, minneapolis_merged.columns[1:12]]\n",
    "cluster_2"
   ]
  },
  {
   "cell_type": "code",
   "execution_count": null,
   "metadata": {
    "ExecuteTime": {
     "end_time": "2020-03-02T01:03:58.538955Z",
     "start_time": "2020-03-02T01:03:58.521595Z"
    }
   },
   "outputs": [],
   "source": [
    "for col in required_column:\n",
    "    print(cluster_2[col].value_counts(ascending = False))\n",
    "    print(\"---------------------------------------------\")"
   ]
  },
  {
   "cell_type": "code",
   "execution_count": null,
   "metadata": {
    "ExecuteTime": {
     "end_time": "2020-03-02T01:03:58.570699Z",
     "start_time": "2020-03-02T01:03:58.541435Z"
    }
   },
   "outputs": [],
   "source": [
    "cluster_3 = minneapolis_merged.loc[minneapolis_merged['Cluster Labels'] == 3, minneapolis_merged.columns[1:12]]\n",
    "cluster_3"
   ]
  },
  {
   "cell_type": "code",
   "execution_count": null,
   "metadata": {
    "ExecuteTime": {
     "end_time": "2020-03-02T01:03:58.586571Z",
     "start_time": "2020-03-02T01:03:58.577147Z"
    }
   },
   "outputs": [],
   "source": [
    "for col in required_column:\n",
    "    print(cluster_3[col].value_counts(ascending = False))\n",
    "    print(\"---------------------------------------------\")"
   ]
  },
  {
   "cell_type": "code",
   "execution_count": null,
   "metadata": {
    "ExecuteTime": {
     "end_time": "2020-03-02T01:03:58.606411Z",
     "start_time": "2020-03-02T01:03:58.589547Z"
    }
   },
   "outputs": [],
   "source": [
    "cluster_4 = minneapolis_merged.loc[minneapolis_merged['Cluster Labels'] == 4, minneapolis_merged.columns[1:12]]\n",
    "cluster_4"
   ]
  },
  {
   "cell_type": "code",
   "execution_count": null,
   "metadata": {
    "ExecuteTime": {
     "end_time": "2020-03-02T01:03:58.620795Z",
     "start_time": "2020-03-02T01:03:58.608395Z"
    }
   },
   "outputs": [],
   "source": [
    "for col in required_column:\n",
    "    print(cluster_4[col].value_counts(ascending = False))\n",
    "    print(\"---------------------------------------------\")"
   ]
  },
  {
   "cell_type": "code",
   "execution_count": null,
   "metadata": {
    "ExecuteTime": {
     "end_time": "2020-03-02T01:03:58.640635Z",
     "start_time": "2020-03-02T01:03:58.623275Z"
    }
   },
   "outputs": [],
   "source": [
    "cluster_5 = minneapolis_merged.loc[minneapolis_merged['Cluster Labels'] == 5, minneapolis_merged.columns[1:12]]\n",
    "cluster_5"
   ]
  },
  {
   "cell_type": "code",
   "execution_count": null,
   "metadata": {
    "ExecuteTime": {
     "end_time": "2020-03-02T01:03:58.652539Z",
     "start_time": "2020-03-02T01:03:58.643115Z"
    }
   },
   "outputs": [],
   "source": [
    "for col in required_column:\n",
    "    print(cluster_5[col].value_counts(ascending = False))\n",
    "    print(\"---------------------------------------------\")"
   ]
  },
  {
   "cell_type": "code",
   "execution_count": null,
   "metadata": {
    "ExecuteTime": {
     "end_time": "2020-03-02T01:03:58.677339Z",
     "start_time": "2020-03-02T01:03:58.655019Z"
    }
   },
   "outputs": [],
   "source": [
    "cluster_6 = minneapolis_merged.loc[minneapolis_merged['Cluster Labels'] == 6, minneapolis_merged.columns[1:12]]\n",
    "cluster_6"
   ]
  },
  {
   "cell_type": "code",
   "execution_count": null,
   "metadata": {
    "ExecuteTime": {
     "end_time": "2020-03-02T01:03:58.689243Z",
     "start_time": "2020-03-02T01:03:58.679819Z"
    }
   },
   "outputs": [],
   "source": [
    "for col in required_column:\n",
    "    print(cluster_6[col].value_counts(ascending = False))\n",
    "    print(\"---------------------------------------------\")"
   ]
  },
  {
   "cell_type": "code",
   "execution_count": null,
   "metadata": {
    "ExecuteTime": {
     "end_time": "2020-03-02T01:03:58.703627Z",
     "start_time": "2020-03-02T01:03:58.691227Z"
    }
   },
   "outputs": [],
   "source": [
    "cluster_7 = minneapolis_merged.loc[minneapolis_merged['Cluster Labels'] == 7, minneapolis_merged.columns[1:12]]\n",
    "cluster_7"
   ]
  },
  {
   "cell_type": "code",
   "execution_count": null,
   "metadata": {
    "ExecuteTime": {
     "end_time": "2020-03-02T01:03:58.718011Z",
     "start_time": "2020-03-02T01:03:58.706108Z"
    }
   },
   "outputs": [],
   "source": [
    "for col in required_column:\n",
    "    print(cluster_7[col].value_counts(ascending = False))\n",
    "    print(\"---------------------------------------------\")"
   ]
  },
  {
   "cell_type": "code",
   "execution_count": 2,
   "metadata": {
    "ExecuteTime": {
     "end_time": "2020-03-02T03:33:02.524602Z",
     "start_time": "2020-03-02T03:33:02.410906Z"
    }
   },
   "outputs": [
    {
     "name": "stderr",
     "output_type": "stream",
     "text": [
      "Using TensorFlow backend.\n"
     ]
    }
   ],
   "source": [
    "import tensorflow\n",
    "import keras\n"
   ]
  }
 ],
 "metadata": {
  "kernelspec": {
   "display_name": "Python 3",
   "language": "python",
   "name": "python3"
  },
  "language_info": {
   "codemirror_mode": {
    "name": "ipython",
    "version": 3
   },
   "file_extension": ".py",
   "mimetype": "text/x-python",
   "name": "python",
   "nbconvert_exporter": "python",
   "pygments_lexer": "ipython3",
   "version": "3.7.4"
  }
 },
 "nbformat": 4,
 "nbformat_minor": 2
}
