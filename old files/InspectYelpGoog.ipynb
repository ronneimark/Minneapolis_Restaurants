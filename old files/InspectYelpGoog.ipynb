{
 "cells": [
  {
   "cell_type": "code",
   "execution_count": 1,
   "metadata": {
    "ExecuteTime": {
     "end_time": "2020-03-02T22:40:59.673585Z",
     "start_time": "2020-03-02T22:40:58.481246Z"
    }
   },
   "outputs": [
    {
     "name": "stdout",
     "output_type": "stream",
     "text": [
      "Dependencies imported...\n",
      "---------------\n"
     ]
    }
   ],
   "source": [
    "# Import Dependencies\n",
    "\n",
    "import requests\n",
    "import json\n",
    "import pandas as pd\n",
    "import numpy as np\n",
    "import datetime\n",
    "from config import api_key\n",
    "from config import google_key\n",
    "import time\n",
    "\n",
    "from config import password\n",
    "from config import username\n",
    "import psycopg2\n",
    "import sqlalchemy\n",
    "import urllib\n",
    "from sqlalchemy import create_engine\n",
    "from sqlalchemy.ext.declarative import declarative_base\n",
    "from sqlalchemy import PrimaryKeyConstraint\n",
    "from sqlalchemy.orm import Session\n",
    "from sqlalchemy.orm import sessionmaker\n",
    "from sqlalchemy import Column, Integer, String, Float, DateTime\n",
    "from sqlalchemy.schema import Sequence\n",
    "\n",
    "print(f'Dependencies imported...',flush=True)\n",
    "print('---------------',flush=True)"
   ]
  },
  {
   "cell_type": "markdown",
   "metadata": {},
   "source": [
    "# Inspections Data Download"
   ]
  },
  {
   "cell_type": "code",
   "execution_count": 2,
   "metadata": {
    "ExecuteTime": {
     "end_time": "2020-03-02T22:41:04.722790Z",
     "start_time": "2020-03-02T22:41:03.589968Z"
    }
   },
   "outputs": [],
   "source": [
    "url = 'https://services.arcgis.com/afSMGVsC7QlRK1kZ/arcgis/rest/services/Food_Inspections/FeatureServer/0/query?'\n",
    "params = \"where=FacilityCategory%20%3D%20%27RESTAURANT%27\"\n",
    "outfields = \"&outFields=BusinessName,HealthFacilityIDNumber,FullAddress,InspectionType,DateOfInspection,InspectionIDNumber,InspectionScore,Latitude,Longitude,FoodCodeText,ViolationPoints,InspectionResult,FoodCodeItem,InspectorComments,ViolationStatus,ViolationPriority&returnGeometry=false&outSR=4326\"\n",
    "json = '&f=json'\n",
    "\n",
    "full_url = url+params+outfields+json\n",
    "\n",
    "response = requests.get(full_url)\n",
    "\n",
    "data=response.json()['features']"
   ]
  },
  {
   "cell_type": "code",
   "execution_count": 3,
   "metadata": {
    "ExecuteTime": {
     "end_time": "2020-03-02T22:41:12.954034Z",
     "start_time": "2020-03-02T22:41:12.831327Z"
    }
   },
   "outputs": [
    {
     "name": "stdout",
     "output_type": "stream",
     "text": [
      "inspection_data_list with needed data has been built.\n",
      "---------------\n"
     ]
    }
   ],
   "source": [
    "inspection_data_list = []\n",
    "\n",
    "for records in data:\n",
    "    item = records['attributes']\n",
    "    item['DateOfInspection']=time.strftime('%Y/%m/%d',time.gmtime(records['attributes']['DateOfInspection']/1000))\n",
    "    inspection_data_list.append(item)\n",
    "    \n",
    "print('inspection_data_list with needed data has been built.',flush=True)\n",
    "print('---------------',flush=True)"
   ]
  },
  {
   "cell_type": "code",
   "execution_count": 4,
   "metadata": {
    "ExecuteTime": {
     "end_time": "2020-03-02T22:41:25.183251Z",
     "start_time": "2020-03-02T22:41:24.977804Z"
    }
   },
   "outputs": [
    {
     "name": "stdout",
     "output_type": "stream",
     "text": [
      "Inspection Detail DataFrame now stored in memory as \"inspection_detail\"\n",
      "---------------\n"
     ]
    }
   ],
   "source": [
    "inspections_df_base = pd.DataFrame(inspection_data_list)\n",
    "\n",
    "inspections_df_1 = inspections_df_base[['InspectionIDNumber','DateOfInspection','BusinessName','FullAddress','InspectionType','InspectionScore','Latitude','Longitude']]\n",
    "inspections_df_1 = inspections_df_1.drop_duplicates(subset='InspectionIDNumber', keep='first')\n",
    "inspections_df_1 = inspections_df_1.sort_values(by=['BusinessName','DateOfInspection'])\n",
    "inspections_df_1 = inspections_df_1.rename(columns={'BusinessName':'businessname','FullAddress':'fulladdress','Latitude':'latitude','Longitude':'longitude','InspectionIDNumber':'inspectionidnumber','DateOfInspection':'dateofinspection','InspectionScore':'inspectionscore','InspectionType':'inspectiontype'})\n",
    "\n",
    "inspections_df_2 = inspections_df_base[['DateOfInspection','InspectionIDNumber','BusinessName','FullAddress','InspectionType','InspectionScore','InspectionResult','FoodCodeItem','FoodCodeText','InspectorComments','ViolationPriority','ViolationStatus','ViolationPoints']]\n",
    "inspections_df_2 = inspections_df_2.sort_values(by=['BusinessName','DateOfInspection'])\n",
    "inspections_df_2 = inspections_df_2.rename(columns={'InspectionIDNumber':'inspectionidnumber','DateOfInspection':'dateofinspection','BusinessName':'businessname','FullAddress':'fulladdress','InspectionType':'inspectiontype','InspectionScore':'inspectionscore','InspectionResult':'inspectionresult','FoodCodeItem':'foodcodeitem','FoodCodeText':'foodcodetext','InspectorComments':'inspectorcomments','ViolationPriority':'violationpriority','ViolationStatus':'violationstatus','ViolationPoints':'violationpoints'})\n",
    "inspections_detail=inspections_df_2\n",
    "\n",
    "inspections_detail\n",
    "print('Inspection Detail DataFrame now stored in memory as \"inspection_detail\"',flush=True)\n",
    "print('---------------',flush=True)"
   ]
  },
  {
   "cell_type": "code",
   "execution_count": 5,
   "metadata": {
    "ExecuteTime": {
     "end_time": "2020-03-02T22:41:29.678568Z",
     "start_time": "2020-03-02T22:41:29.193864Z"
    }
   },
   "outputs": [
    {
     "name": "stdout",
     "output_type": "stream",
     "text": [
      "Inspections DataFrame now stored in memory as \"inspections_data\"\n",
      "There are 6148 inspections for 1557 facilities.\n",
      "---------------\n"
     ]
    }
   ],
   "source": [
    "inspect_by_biz=inspections_df_1.groupby(['businessname','fulladdress','latitude','longitude'],sort=False,as_index=False).aggregate(lambda x: list(x))\n",
    "inspections_data = inspect_by_biz\n",
    "\n",
    "print('Inspections DataFrame now stored in memory as \"inspections_data\"')\n",
    "print(f'There are {len(inspections_df_1)} inspections for {len(inspections_data)} facilities.')\n",
    "print('---------------')"
   ]
  },
  {
   "cell_type": "markdown",
   "metadata": {},
   "source": [
    "# Yelp Data"
   ]
  },
  {
   "cell_type": "code",
   "execution_count": null,
   "metadata": {
    "ExecuteTime": {
     "end_time": "2020-03-01T05:31:02.280139Z",
     "start_time": "2020-03-01T05:18:58.095871Z"
    },
    "scrolled": true
   },
   "outputs": [],
   "source": [
    "# Download 1000 restaurants from Yelp API with Minneapolis as the search parameter.\n",
    "\n",
    "data = []\n",
    "i=0\n",
    "iterable_list = inspections_data.values.tolist()\n",
    "\n",
    "headers = {'Authorization': 'Bearer %s' % api_key}\n",
    "\n",
    "url='https://api.yelp.com/v3/businesses/search'\n",
    "\n",
    "print('Downloading Yelp Data for each restaurant...',flush=True)\n",
    "\n",
    "for item in iterable_list:\n",
    "    \n",
    "    params = {\n",
    "        'term':item[0],\n",
    "        'location':item[1] + 'Minneapolis, MN',\n",
    "        'latitude':item[2],\n",
    "        'longitude':item[3],\n",
    "        'radius':200\n",
    "        }  \n",
    "    \n",
    "    response=requests.get(url, params=params, headers=headers)\n",
    "    if response.status_code == 200:\n",
    "        data += response.json()['businesses']\n",
    "    elif response.status_code == 400:\n",
    "        print('400 Bad Request')\n",
    "        break\n",
    "        \n",
    "    print(\"Restaurants Remaining: {:3}\".format(len(inspections_data)-i), end=\"\\r\",flush=True)\n",
    "    \n",
    "    i+=1\n",
    "        \n",
    "print(f'Yelp data downloaded...  There are {len(data)} records...',flush=True)\n",
    "print('---------------',flush=True)"
   ]
  },
  {
   "cell_type": "code",
   "execution_count": null,
   "metadata": {
    "ExecuteTime": {
     "end_time": "2020-03-01T05:49:24.095817Z",
     "start_time": "2020-03-01T05:49:24.061908Z"
    },
    "scrolled": true
   },
   "outputs": [],
   "source": [
    "i=0\n",
    "yelp_list=[]\n",
    "for places in data:\n",
    "    yelp_id=data[i]['id']\n",
    "    name=data[i]['name']\n",
    "    image=data[i]['image_url']\n",
    "    categories = []\n",
    "    for category in data[i]['categories']:\n",
    "        cat = category['title']\n",
    "        categories.append(cat)\n",
    "    url=data[i]['url']\n",
    "    transactions=data[i]['transactions']\n",
    "    city=data[i]['location']['city']\n",
    "    phone=data[i]['display_phone']\n",
    "    address= data[i]['location']['display_address']\n",
    "    rating=data[i]['rating']\n",
    "    reviews=data[i]['review_count']\n",
    "    latitude=data[i]['coordinates']['latitude']\n",
    "    longitude=data[i]['coordinates']['longitude']\n",
    "    if data[i]['is_closed']==False and city==\"Minneapolis\":\n",
    "        business_dict={\"yelpid\":yelp_id,\"name\":name,\"image\":image,\"url\":url,\"latitude\":latitude,\"longitude\":longitude,\"phone\":phone,\"categories\":categories,\"transactions\":transactions,\"address\":' '.join(map(str, address)),\"rating\":rating,\"reviews\":reviews}\n",
    "        yelp_list.append(business_dict)\n",
    "    i+=1\n",
    "\n",
    "print('yelp_list with needed data has been built.',flush=True)\n",
    "print('---------------',flush=True)"
   ]
  },
  {
   "cell_type": "code",
   "execution_count": null,
   "metadata": {
    "ExecuteTime": {
     "end_time": "2020-03-01T05:32:04.711770Z",
     "start_time": "2020-03-01T05:32:04.680851Z"
    }
   },
   "outputs": [],
   "source": [
    "yelp_df=pd.DataFrame(yelp_list)\n",
    "yelp_df=yelp_df[['yelpid','name','image','url','latitude','longitude','address','phone','categories','transactions','rating','reviews']]\n",
    "yelp_df = yelp_df.drop_duplicates(subset=['name','address'])\n",
    "\n",
    "print('Yelp DataFrame now stored in memory as \"yelp_df\"',flush=True)\n",
    "print(f'Removed duplicates. Leaving {len(yelp_df)} restaurants.',flush=True)\n",
    "print('---------------',flush=True)"
   ]
  },
  {
   "cell_type": "code",
   "execution_count": null,
   "metadata": {
    "ExecuteTime": {
     "end_time": "2020-03-01T06:14:43.362463Z",
     "start_time": "2020-03-01T06:14:43.118117Z"
    }
   },
   "outputs": [],
   "source": [
    "master_list=yelp_df.to_dict('records')\n"
   ]
  },
  {
   "cell_type": "code",
   "execution_count": null,
   "metadata": {
    "ExecuteTime": {
     "end_time": "2020-03-01T06:31:03.363303Z",
     "start_time": "2020-03-01T06:16:31.349536Z"
    }
   },
   "outputs": [],
   "source": [
    "print('Matching Yelp data list to Google API in order to append Google columns to Master...   This will take some time, as we match each record...',flush=True)\n",
    "\n",
    "url = 'https://maps.googleapis.com/maps/api/place/findplacefromtext/json?'\n",
    "\n",
    "i=0\n",
    "\n",
    "for item in master_list:\n",
    "    \n",
    "    params = {\n",
    "        'key':google_key,\n",
    "        'input':item['name'],\n",
    "        'inputtype':'textquery',\n",
    "        'locationbias': 'point:' + str(item['latitude']) + \", \" + str(item['longitude']),\n",
    "        'radius': 100,\n",
    "        'fields':'place_id,name,rating,user_ratings_total,price_level'\n",
    "        }\n",
    "    \n",
    "    response = requests.get(url, params=params)\n",
    "    json=response.json()\n",
    "    \n",
    "    if len(response.json()['candidates'])>0:\n",
    "        if 'name' in json['candidates'][0]: \n",
    "            item.update(google_name =json['candidates'][0]['name'])\n",
    "        if 'place_id' in json['candidates'][0]:\n",
    "            item.update(google_id=json['candidates'][0]['place_id'])\n",
    "        if 'rating' in json['candidates'][0]:\n",
    "            item.update(google_rating=json['candidates'][0]['rating'])\n",
    "        if 'user_ratings_total' in json['candidates'][0]:\n",
    "            item.update(google_reviews = json['candidates'][0]['user_ratings_total'])\n",
    "        if 'price_level' in json['candidates'][0]:\n",
    "            item.update(google_price =json['candidates'][0]['price_level'])\n",
    "    \n",
    "    print(\"Restaurants Remaining: {:3}\".format(len(master_list)-i), end=\"\\r\",flush=True)\n",
    "    \n",
    "    i+=1\n",
    "\n",
    "print(f'Google match has been completed...',flush=True)"
   ]
  },
  {
   "cell_type": "code",
   "execution_count": null,
   "metadata": {
    "ExecuteTime": {
     "end_time": "2020-03-01T06:31:46.339702Z",
     "start_time": "2020-03-01T06:31:46.301805Z"
    }
   },
   "outputs": [],
   "source": [
    "master_df=pd.DataFrame(master_list)\n"
   ]
  },
  {
   "cell_type": "code",
   "execution_count": null,
   "metadata": {
    "ExecuteTime": {
     "end_time": "2020-03-01T06:32:05.382598Z",
     "start_time": "2020-03-01T06:32:05.223027Z"
    }
   },
   "outputs": [],
   "source": [
    "# Create a new Aggregate Score and Review Count  based on Yelp Rating and Google Rating and add Column to the DataFrame\n",
    "\n",
    "\n",
    "# Function that computes the weighted rating of each movie\n",
    "def aggregate_rating (x):\n",
    "    yelp_reviews = x['reviews']\n",
    "    yelp_rating = x['rating']\n",
    "    google_reviews = x['google_reviews']\n",
    "    google_rating = x['google_rating']\n",
    "    # Calculation\n",
    "    return ((yelp_rating*yelp_reviews)+(google_rating*google_reviews))/(yelp_reviews+google_reviews)\n",
    "\n",
    "def total_reviews (x):\n",
    "    yelp_reviews = x['reviews']\n",
    "    google_reviews = x['google_reviews']\n",
    "    return yelp_reviews+google_reviews\n",
    "\n",
    "master_df['agg_rating'] = master_df.apply(aggregate_rating, axis=1)\n",
    "master_df['total_reviews'] = master_df.apply(total_reviews, axis=1)\n"
   ]
  },
  {
   "cell_type": "code",
   "execution_count": null,
   "metadata": {
    "ExecuteTime": {
     "end_time": "2020-03-01T06:33:12.040536Z",
     "start_time": "2020-03-01T06:33:12.035549Z"
    }
   },
   "outputs": [],
   "source": [
    "#Postgres username, password, and database name\n",
    "ipaddress = 'localhost'\n",
    "port = '5432'\n",
    "username = username\n",
    "password = password \n",
    "dbname = 'Minneapolis_Restaurants'\n",
    "# A long string that contains the necessary Postgres login information\n",
    "postgres_str = f'postgresql://{username}:{password}@{ipaddress}:{port}/{dbname}'"
   ]
  },
  {
   "cell_type": "code",
   "execution_count": null,
   "metadata": {
    "ExecuteTime": {
     "end_time": "2020-03-01T06:33:25.895226Z",
     "start_time": "2020-03-01T06:33:25.235989Z"
    }
   },
   "outputs": [],
   "source": [
    "# Creates Classes which will serve as the anchor points for our Table, loads table to Postgres and uplads the data\n",
    "\n",
    "Base = declarative_base()\n",
    "engine = create_engine(postgres_str)\n",
    "\n",
    "class MasterData(Base):\n",
    "    __tablename__ = 'masterdata'\n",
    "    index=Column(Integer,primary_key=True,autoincrement=True)\n",
    "    yelpid=Column(String,nullable=False)\n",
    "    name=Column(String)\n",
    "    image=Column(String)\n",
    "    url=Column(String)\n",
    "    latitude=Column(Float(20))\n",
    "    longitude=Column(Float(20))\n",
    "    address=Column(String)\n",
    "    phone=Column(String)\n",
    "    categories=Column(String)\n",
    "    transactions=Column(String)\n",
    "    rating=Column(Float(10))\n",
    "    reviews=Column(Integer)\n",
    "    google_name=Column(String)\n",
    "    google_id=Column(String)\n",
    "    google_rating=Column(Float(10))\n",
    "    google_reviews=Column(Integer)\n",
    "    google_price=Column(Integer)\n",
    "    agg_rating=Column(Float)\n",
    "    total_reviews=Column(Float)\n",
    "                   \n",
    "Base.metadata.create_all(engine)\n",
    "\n",
    "master_df.to_sql('masterdata', engine, if_exists='replace', index=True)\n",
    "\n",
    "print(f'Table \"masterdata\" uploaded to postgreSQL database \"Minneapolis_Restaurants\".',flush=True)\n",
    "print('---------------')"
   ]
  },
  {
   "cell_type": "code",
   "execution_count": null,
   "metadata": {
    "ExecuteTime": {
     "end_time": "2020-03-01T06:33:37.812391Z",
     "start_time": "2020-03-01T06:33:37.208008Z"
    }
   },
   "outputs": [],
   "source": [
    "# Creates Classes which will serve as the anchor points for our Table, loads table to Postgres and uplads the data\n",
    "\n",
    "Base = declarative_base()\n",
    "engine = create_engine(postgres_str)\n",
    "\n",
    "class InspectionsData(Base):\n",
    "    __tablename__ = 'inspectionsdata'\n",
    "    index=Column(Integer,primary_key=True,autoincrement=True)\n",
    "    businessname=Column(String,nullable=False)\n",
    "    fulladdress=Column(String)\n",
    "    healthfacilityidnumber=Column(String)\n",
    "    latitude=Column(Float(20))\n",
    "    longitude=Column(Float(20))\n",
    "    inspectionidnumber=Column(String)\n",
    "    dateofinspection=Column(String)\n",
    "    inspectionscore=Column(String)\n",
    "    inspectiontype=Column(String)\n",
    "                   \n",
    "Base.metadata.create_all(engine)\n",
    "\n",
    "inspections_data.to_sql('inspectionsdata', engine, if_exists='replace', index=True)\n",
    "\n",
    "print(f'Table \"inspectionsdata\" uploaded to postgreSQL database \"Minneapolis_Restaurants\".',flush=True)\n",
    "print('---------------',flush=True)"
   ]
  },
  {
   "cell_type": "code",
   "execution_count": null,
   "metadata": {
    "ExecuteTime": {
     "end_time": "2020-03-01T06:34:38.168018Z",
     "start_time": "2020-03-01T06:34:29.901117Z"
    }
   },
   "outputs": [],
   "source": [
    "# Creates Classes which will serve as the anchor points for our Table, loads table to Postgres and uplads the data\n",
    "\n",
    "Base = declarative_base()\n",
    "engine = create_engine(postgres_str)\n",
    "\n",
    "class InspectionsDetail(Base):\n",
    "    __tablename__ = 'inspectionsdetail'\n",
    "    inspectionidnumber=Column(String,primary_key=True)\n",
    "    dateofinspection=Column(String)\n",
    "    businessname=Column(String)\n",
    "    fulladdress=Column(String)\n",
    "    inspectiontype=Column(String)\n",
    "    inspectionscore=Column(String)\n",
    "    inspectionresult=Column(String)\n",
    "    foodcodeitem=Column(String)\n",
    "    foodcodetext=Column(String)\n",
    "    inspectorcomments=Column(String)\n",
    "    violationpriority=Column(String)\n",
    "    violationstatus=Column(String)\n",
    "    violationpoints=Column(String)\n",
    "                   \n",
    "Base.metadata.create_all(engine)\n",
    "\n",
    "inspections_detail.to_sql('inspectionsdetail', engine, if_exists='replace', index=True)\n",
    "\n",
    "print(f'Table \"inspectionsdetail\" uploaded to postgreSQL database \"Minneapolis_Restaurants\".',flush=True)\n",
    "print('---------------',flush=True)\n",
    "print(\"DONE.  Don't forget to fix the SQL data types! Use the DataTypeChange script to fix your Minneapolis_Restaurants DB\",flush=True)"
   ]
  }
 ],
 "metadata": {
  "kernelspec": {
   "display_name": "Python 3",
   "language": "python",
   "name": "python3"
  },
  "language_info": {
   "codemirror_mode": {
    "name": "ipython",
    "version": 3
   },
   "file_extension": ".py",
   "mimetype": "text/x-python",
   "name": "python",
   "nbconvert_exporter": "python",
   "pygments_lexer": "ipython3",
   "version": "3.7.4"
  }
 },
 "nbformat": 4,
 "nbformat_minor": 2
}
