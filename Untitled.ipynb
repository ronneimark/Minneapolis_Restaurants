{
 "cells": [
  {
   "cell_type": "code",
   "execution_count": 1,
   "metadata": {
    "ExecuteTime": {
     "end_time": "2020-03-14T02:30:07.466683Z",
     "start_time": "2020-03-14T02:30:07.369263Z"
    }
   },
   "outputs": [],
   "source": [
    "import numpy as np\n",
    "\n",
    "# Define vertices of polygon (lat/lon)\n",
    "v0 = [7.5, -2.5] \n",
    "v1 = [2, 3.5]\n",
    "v2 = [-2, 4]\n",
    "v3 = [-5.5, -4]\n",
    "v4 = [0, -10]\n",
    "lats_vect = np.array([v0[0],v1[0],v2[0],v3[0],v4[0]])\n",
    "lons_vect = np.array([v0[1],v1[1],v2[1],v3[1],v4[1]])\n",
    "\n",
    "# Point of interest P\n",
    "x, y = -6, 5 # x = Lat, y = Lon\n",
    "\n",
    "## START MODIFYING FROM HERE; DO NOT MODIFY POLYGON VERTICES AND DATA TYPE\n",
    "# Check if point of interest falls within polygon boundaries\n",
    "# If yes, return True\n",
    "# If no, return False"
   ]
  },
  {
   "cell_type": "code",
   "execution_count": 3,
   "metadata": {
    "ExecuteTime": {
     "end_time": "2020-03-14T02:30:51.153321Z",
     "start_time": "2020-03-14T02:30:35.573574Z"
    }
   },
   "outputs": [
    {
     "name": "stdout",
     "output_type": "stream",
     "text": [
      "Collecting cartopy\n",
      "  Using cached https://files.pythonhosted.org/packages/e5/92/fe8838fa8158931906dfc4f16c5c1436b3dd2daf83592645b179581403ad/Cartopy-0.17.0.tar.gz\n",
      "  Installing build dependencies: started\n",
      "  Installing build dependencies: finished with status 'done'\n",
      "  Getting requirements to build wheel: started\n",
      "  Getting requirements to build wheel: finished with status 'error'\n",
      "Note: you may need to restart the kernel to use updated packages.\n"
     ]
    },
    {
     "name": "stderr",
     "output_type": "stream",
     "text": [
      "  ERROR: Command errored out with exit status 1:\n",
      "   command: 'C:\\ProgramData\\Anaconda3\\python.exe' 'C:\\ProgramData\\Anaconda3\\lib\\site-packages\\pip\\_vendor\\pep517\\_in_process.py' get_requires_for_build_wheel 'C:\\Users\\ronne\\AppData\\Local\\Temp\\tmppz82uq02'\n",
      "       cwd: C:\\Users\\ronne\\AppData\\Local\\Temp\\pip-install-4cyk7j7v\\cartopy\n",
      "  Complete output (5 lines):\n",
      "  setup.py:171: UserWarning: Unable to determine GEOS version. Ensure you have 3.3.3 or later installed, or installation may fail.\n",
      "    '.'.join(str(v) for v in GEOS_MIN_VERSION), ))\n",
      "  setup.py:227: UserWarning: Unable to determine Proj version. Ensure you have 4.9.0 or later installed, or installation may fail.\n",
      "    '.'.join(str(v) for v in PROJ_MIN_VERSION), ))\n",
      "  Proj version 0.0.0 is installed, but cartopy requires at least version 4.9.0.\n",
      "  ----------------------------------------\n",
      "ERROR: Command errored out with exit status 1: 'C:\\ProgramData\\Anaconda3\\python.exe' 'C:\\ProgramData\\Anaconda3\\lib\\site-packages\\pip\\_vendor\\pep517\\_in_process.py' get_requires_for_build_wheel 'C:\\Users\\ronne\\AppData\\Local\\Temp\\tmppz82uq02' Check the logs for full command output.\n"
     ]
    }
   ],
   "source": [
    "%pip install cartopy"
   ]
  },
  {
   "cell_type": "code",
   "execution_count": 2,
   "metadata": {
    "ExecuteTime": {
     "end_time": "2020-03-14T02:30:10.328119Z",
     "start_time": "2020-03-14T02:30:10.266388Z"
    }
   },
   "outputs": [
    {
     "ename": "ModuleNotFoundError",
     "evalue": "No module named 'cartopy'",
     "output_type": "error",
     "traceback": [
      "\u001b[1;31m---------------------------------------------------------------------------\u001b[0m",
      "\u001b[1;31mModuleNotFoundError\u001b[0m                       Traceback (most recent call last)",
      "\u001b[1;32m<ipython-input-2-2d96348a11ec>\u001b[0m in \u001b[0;36m<module>\u001b[1;34m\u001b[0m\n\u001b[1;32m----> 1\u001b[1;33m \u001b[1;32mimport\u001b[0m \u001b[0mcartopy\u001b[0m\u001b[1;33m.\u001b[0m\u001b[0mcrs\u001b[0m \u001b[1;32mas\u001b[0m \u001b[0mccrs\u001b[0m\u001b[1;33m\u001b[0m\u001b[1;33m\u001b[0m\u001b[0m\n\u001b[0m\u001b[0;32m      2\u001b[0m \u001b[1;32mimport\u001b[0m \u001b[0mmatplotlib\u001b[0m\u001b[1;33m.\u001b[0m\u001b[0mpyplot\u001b[0m \u001b[1;32mas\u001b[0m \u001b[0mplt\u001b[0m\u001b[1;33m\u001b[0m\u001b[1;33m\u001b[0m\u001b[0m\n\u001b[0;32m      3\u001b[0m \u001b[0max\u001b[0m \u001b[1;33m=\u001b[0m \u001b[0mplt\u001b[0m\u001b[1;33m.\u001b[0m\u001b[0maxes\u001b[0m\u001b[1;33m(\u001b[0m\u001b[0mprojection\u001b[0m\u001b[1;33m=\u001b[0m\u001b[0mccrs\u001b[0m\u001b[1;33m.\u001b[0m\u001b[0mPlateCarree\u001b[0m\u001b[1;33m(\u001b[0m\u001b[1;33m)\u001b[0m\u001b[1;33m)\u001b[0m\u001b[1;33m\u001b[0m\u001b[1;33m\u001b[0m\u001b[0m\n\u001b[0;32m      4\u001b[0m \u001b[0max\u001b[0m\u001b[1;33m.\u001b[0m\u001b[0mstock_img\u001b[0m\u001b[1;33m(\u001b[0m\u001b[1;33m)\u001b[0m\u001b[1;33m\u001b[0m\u001b[1;33m\u001b[0m\u001b[0m\n\u001b[0;32m      5\u001b[0m \u001b[1;33m\u001b[0m\u001b[0m\n",
      "\u001b[1;31mModuleNotFoundError\u001b[0m: No module named 'cartopy'"
     ]
    }
   ],
   "source": [
    "import cartopy.crs as ccrs\n",
    "import matplotlib.pyplot as plt\n",
    "ax = plt.axes(projection=ccrs.PlateCarree())\n",
    "ax.stock_img() \n",
    "\n",
    "# Append first vertex to end of vector to close polygon when plotting\n",
    "lats_vect = np.append(lats_vect, lats_vect[0])\n",
    "lons_vect = np.append(lons_vect, lons_vect[0])\n",
    "plt.plot([lons_vect[0:-1], lons_vect[1:]], [lats_vect[0:-1], lats_vect[1:]],\n",
    "         color='black', linewidth=1, \n",
    "         transform=ccrs.Geodetic(),\n",
    "         )   \n",
    "\n",
    "plt.plot(y, x, \n",
    "        '*',          # marker shape\n",
    "        color='blue',  # marker colour\n",
    "        markersize=8  # marker size\n",
    "        )  \n",
    "\n",
    "plt.show()  "
   ]
  },
  {
   "cell_type": "code",
   "execution_count": null,
   "metadata": {
    "ExecuteTime": {
     "end_time": "2020-03-14T02:18:15.212131Z",
     "start_time": "2020-03-14T02:18:15.154149Z"
    }
   },
   "outputs": [],
   "source": [
    "from shapely.geometry import Point\n",
    "from shapely.geometry.polygon import Polygon\n",
    "\n",
    "lons_lats_vect = np.column_stack((lons_vect, lats_vect)) # Reshape coordinates\n",
    "polygon = Polygon(lons_lats_vect) # create polygon\n",
    "point = Point(y,x) # create point\n",
    "print(polygon.contains(point)) # check if polygon contains point\n",
    "print(point.within(polygon)) # check if a point is in the polygon "
   ]
  },
  {
   "cell_type": "code",
   "execution_count": null,
   "metadata": {},
   "outputs": [],
   "source": []
  }
 ],
 "metadata": {
  "kernelspec": {
   "display_name": "Python 3",
   "language": "python",
   "name": "python3"
  },
  "language_info": {
   "codemirror_mode": {
    "name": "ipython",
    "version": 3
   },
   "file_extension": ".py",
   "mimetype": "text/x-python",
   "name": "python",
   "nbconvert_exporter": "python",
   "pygments_lexer": "ipython3",
   "version": "3.7.4"
  }
 },
 "nbformat": 4,
 "nbformat_minor": 2
}
