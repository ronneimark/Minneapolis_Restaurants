{
 "cells": [
  {
   "cell_type": "code",
   "execution_count": 1,
   "metadata": {
    "ExecuteTime": {
     "end_time": "2020-03-04T00:52:06.056251Z",
     "start_time": "2020-03-04T00:52:03.907815Z"
    }
   },
   "outputs": [
    {
     "name": "stdout",
     "output_type": "stream",
     "text": [
      "Dependencies imported...\n",
      "---------------\n"
     ]
    }
   ],
   "source": [
    "# Import Dependencies\n",
    "\n",
    "import requests\n",
    "import json\n",
    "import pandas as pd\n",
    "import numpy as np\n",
    "import datetime\n",
    "from config import api_key\n",
    "from config import google_key\n",
    "import time\n",
    "\n",
    "from config import password\n",
    "from config import username\n",
    "import psycopg2\n",
    "import sqlalchemy\n",
    "import urllib\n",
    "from sqlalchemy import create_engine\n",
    "from sqlalchemy.ext.declarative import declarative_base\n",
    "from sqlalchemy import PrimaryKeyConstraint\n",
    "from sqlalchemy.orm import Session\n",
    "from sqlalchemy.orm import sessionmaker\n",
    "from sqlalchemy import Column, Integer, String, Float, DateTime\n",
    "from sqlalchemy.schema import Sequence\n",
    "\n",
    "print(f'Dependencies imported...',flush=True)\n",
    "print('---------------',flush=True)"
   ]
  },
  {
   "cell_type": "markdown",
   "metadata": {},
   "source": [
    "# Inspections Data Download"
   ]
  },
  {
   "cell_type": "code",
   "execution_count": 2,
   "metadata": {
    "ExecuteTime": {
     "end_time": "2020-03-04T00:52:09.299945Z",
     "start_time": "2020-03-04T00:52:06.058168Z"
    }
   },
   "outputs": [],
   "source": [
    "url = 'https://services.arcgis.com/afSMGVsC7QlRK1kZ/arcgis/rest/services/Food_Inspections/FeatureServer/0/query?'\n",
    "params = \"where=FacilityCategory%20%3D%20%27RESTAURANT%27\"\n",
    "outfields = \"&outFields=BusinessName,HealthFacilityIDNumber,FullAddress,InspectionType,DateOfInspection,InspectionIDNumber,InspectionScore,Latitude,Longitude,FoodCodeText,ViolationPoints,InspectionResult,FoodCodeItem,InspectorComments,ViolationStatus,ViolationPriority&returnGeometry=false&outSR=4326\"\n",
    "json = '&f=json'\n",
    "\n",
    "full_url = url+params+outfields+json\n",
    "\n",
    "response = requests.get(full_url)\n",
    "\n",
    "data=response.json()['features']"
   ]
  },
  {
   "cell_type": "code",
   "execution_count": 3,
   "metadata": {
    "ExecuteTime": {
     "end_time": "2020-03-04T00:52:09.624208Z",
     "start_time": "2020-03-04T00:52:09.304395Z"
    }
   },
   "outputs": [
    {
     "name": "stdout",
     "output_type": "stream",
     "text": [
      "inspection_data_list with needed data has been built.\n",
      "---------------\n"
     ]
    }
   ],
   "source": [
    "inspection_data_list = []\n",
    "\n",
    "for records in data:\n",
    "    item = records['attributes']\n",
    "    item['DateOfInspection']=time.strftime('%Y/%m/%d',time.gmtime(records['attributes']['DateOfInspection']/1000))\n",
    "    inspection_data_list.append(item)\n",
    "    \n",
    "print('inspection_data_list with needed data has been built.',flush=True)\n",
    "print('---------------',flush=True)"
   ]
  },
  {
   "cell_type": "code",
   "execution_count": 4,
   "metadata": {
    "ExecuteTime": {
     "end_time": "2020-03-04T00:52:10.032740Z",
     "start_time": "2020-03-04T00:52:09.627201Z"
    }
   },
   "outputs": [
    {
     "name": "stdout",
     "output_type": "stream",
     "text": [
      "Inspection Detail DataFrame now stored in memory as \"inspection_detail\"\n",
      "---------------\n"
     ]
    }
   ],
   "source": [
    "inspections_df_base = pd.DataFrame(inspection_data_list)\n",
    "\n",
    "inspections_df_1 = inspections_df_base[['InspectionIDNumber','DateOfInspection','BusinessName','FullAddress','InspectionType','InspectionScore','Latitude','Longitude']]\n",
    "inspections_df_1 = inspections_df_1.drop_duplicates(subset='InspectionIDNumber', keep='first')\n",
    "inspections_df_1 = inspections_df_1.sort_values(by=['BusinessName','DateOfInspection'])\n",
    "inspections_df_1 = inspections_df_1.rename(columns={'BusinessName':'inspect_name','FullAddress':'inspect_address','Latitude':'latitude','Longitude':'longitude','InspectionIDNumber':'inspectionidnumber','DateOfInspection':'dateofinspection','InspectionScore':'inspectionscore','InspectionType':'inspectiontype'})\n",
    "\n",
    "inspections_detail = inspections_df_base[['DateOfInspection','InspectionIDNumber','BusinessName','FullAddress','InspectionType','InspectionScore','InspectionResult','FoodCodeItem','FoodCodeText','InspectorComments','ViolationPriority','ViolationStatus','ViolationPoints']]\n",
    "inspections_detail = inspections_detail.sort_values(by=['BusinessName','DateOfInspection'])\n",
    "inspections_detail = inspections_detail.rename(columns={'InspectionIDNumber':'inspectionidnumber','DateOfInspection':'dateofinspection','BusinessName':'businessname','FullAddress':'fulladdress','InspectionType':'inspectiontype','InspectionScore':'inspectionscore','InspectionResult':'inspectionresult','FoodCodeItem':'foodcodeitem','FoodCodeText':'foodcodetext','InspectorComments':'inspectorcomments','ViolationPriority':'violationpriority','ViolationStatus':'violationstatus','ViolationPoints':'violationpoints'})\n",
    "\n",
    "print('Inspection Detail DataFrame now stored in memory as \"inspection_detail\"',flush=True)\n",
    "print('---------------',flush=True)"
   ]
  },
  {
   "cell_type": "code",
   "execution_count": 5,
   "metadata": {
    "ExecuteTime": {
     "end_time": "2020-03-04T00:52:11.398100Z",
     "start_time": "2020-03-04T00:52:10.035613Z"
    }
   },
   "outputs": [
    {
     "name": "stdout",
     "output_type": "stream",
     "text": [
      "Inspections Dictionary now stored in memory as \"grand_master_list\"\n",
      "There are 6148 inspections for 1557 facilities.\n",
      "---------------\n"
     ]
    }
   ],
   "source": [
    "grand_master_data=inspections_df_1.groupby(['inspect_name','inspect_address','latitude','longitude'],sort=False,as_index=False).aggregate(lambda x: list(x))\n",
    "grand_master_list = grand_master_data.to_dict('records')\n",
    "\n",
    "print('Inspections Dictionary now stored in memory as \"grand_master_list\"')\n",
    "print(f'There are {len(inspections_df_1)} inspections for {len(grand_master_list)} facilities.')\n",
    "grand_master_list\n",
    "print('---------------')"
   ]
  },
  {
   "cell_type": "markdown",
   "metadata": {},
   "source": [
    "# Yelp Data"
   ]
  },
  {
   "cell_type": "code",
   "execution_count": 28,
   "metadata": {
    "ExecuteTime": {
     "end_time": "2020-03-04T05:22:14.158906Z",
     "start_time": "2020-03-04T05:10:10.223589Z"
    },
    "scrolled": true
   },
   "outputs": [
    {
     "name": "stdout",
     "output_type": "stream",
     "text": [
      "Downloading Yelp Data for each restaurant...\n",
      "Yelp data downloaded and added to grand_master_list...\n",
      "---------------\n"
     ]
    }
   ],
   "source": [
    "# Download 1000 restaurants from Yelp API with Minneapolis as the search parameter.\n",
    "\n",
    "i=0\n",
    "\n",
    "headers = {'Authorization': 'Bearer %s' % api_key}\n",
    "\n",
    "url='https://api.yelp.com/v3/businesses/search'\n",
    "\n",
    "print('Downloading Yelp Data for each restaurant...',flush=True)\n",
    "\n",
    "for item in grand_master_list:\n",
    "    \n",
    "    params = {\n",
    "        'term':item['inspect_name'].split()[0],\n",
    "        'latitude':item['latitude'],\n",
    "        'longitude':item['longitude'],\n",
    "        'radius':200,\n",
    "        \"sort_by\":\"distance\"\n",
    "        }  \n",
    "    \n",
    "    response=requests.get(url, params=params, headers=headers)\n",
    "    if response.status_code == 200:\n",
    "        yelp= response.json()['businesses']\n",
    "        if len(yelp)>0:                                                                                                                                                                 \n",
    "            if 'name' in yelp[0]: \n",
    "                item.update(yelp_name = yelp[0]['name'])\n",
    "            if 'id' in yelp[0]:\n",
    "                item.update(yelp_id= yelp[0]['id'])\n",
    "            if 'categories' in yelp[0]:\n",
    "                categories=[]\n",
    "                for cat in yelp[0]['categories']:\n",
    "                    category = cat['title']\n",
    "                    categories.append(category)\n",
    "                item.update(yelp_categories=categories)\n",
    "            if 'price' in yelp[0]:\n",
    "                item.update(yelp_price=yelp[0]['price'])\n",
    "            if 'url'in yelp[0]:\n",
    "                item.update(yelp_url=yelp[0]['url'])\n",
    "            if 'transactions' in yelp[0]:\n",
    "                item.update(yelp_transactions=yelp[0]['transactions'])\n",
    "            if 'display_phone' in yelp[0]:\n",
    "                item.update(yelp_phone=yelp[0]['display_phone'])\n",
    "            if 'display_address' in yelp[0]['location']:\n",
    "                item.update(yelp_address=yelp[0]['location']['display_address'])\n",
    "            if 'rating' in yelp[0]:\n",
    "                item.update(yelp_rating=yelp[0]['rating'])\n",
    "            if 'review_count' in yelp[0]:\n",
    "                item.update(yelp_reviews=yelp[0]['review_count'])\n",
    "            if 'latitude' in yelp[0]:\n",
    "                item.update(latitude=yelp[0]['latitude'])\n",
    "            if 'longitude' in yelp[0]:\n",
    "                item.update(longitude=yelp[0]['longitude'])\n",
    "          \n",
    "    elif response.status_code == 400:\n",
    "        print('400 Bad Request')\n",
    "        break\n",
    "        \n",
    "    print(\"Restaurants Remaining: {:4}\".format(len(grand_master_list)-i), end=\"\\r\",flush=True)\n",
    "    \n",
    "    i+=1\n",
    "        \n",
    "print(f'Yelp data downloaded and added to grand_master_list...',flush=True)\n",
    "print('---------------',flush=True)"
   ]
  },
  {
   "cell_type": "markdown",
   "metadata": {},
   "source": [
    "#Google Data"
   ]
  },
  {
   "cell_type": "code",
   "execution_count": 9,
   "metadata": {
    "ExecuteTime": {
     "end_time": "2020-03-04T01:34:33.601437Z",
     "start_time": "2020-03-04T01:09:38.323527Z"
    }
   },
   "outputs": [
    {
     "name": "stdout",
     "output_type": "stream",
     "text": [
      "Appending Google Data to grand_master_list...   This will take some time, as we match each record...\n",
      "Google match has been completed...\n"
     ]
    }
   ],
   "source": [
    "print('Appending Google Data to grand_master_list...   This will take some time, as we match each record...',flush=True)\n",
    "\n",
    "url = 'https://maps.googleapis.com/maps/api/place/findplacefromtext/json?'\n",
    "\n",
    "i=0\n",
    "\n",
    "for item in grand_master_list:\n",
    "    \n",
    "    params = {\n",
    "        'key':google_key,\n",
    "        'input':item['inspect_name'],\n",
    "        'inputtype':'textquery',\n",
    "        'locationbias': 'point:' + str(item['latitude']) + \", \" + str(item['longitude']),\n",
    "        'radius': 100,\n",
    "        'fields':'place_id,name,rating,user_ratings_total,price_level'\n",
    "        }\n",
    "    \n",
    "    response = requests.get(url, params=params)\n",
    "    json=response.json()\n",
    "    \n",
    "    if len(response.json()['candidates'])>0:\n",
    "        if 'name' in json['candidates'][0]: \n",
    "            item.update(google_name =json['candidates'][0]['name'])\n",
    "        if 'place_id' in json['candidates'][0]:\n",
    "            item.update(google_id=json['candidates'][0]['place_id'])\n",
    "        if 'rating' in json['candidates'][0]:\n",
    "            item.update(google_rating=json['candidates'][0]['rating'])\n",
    "        if 'user_ratings_total' in json['candidates'][0]:\n",
    "            item.update(google_reviews = json['candidates'][0]['user_ratings_total'])\n",
    "        if 'price_level' in json['candidates'][0]:\n",
    "            item.update(google_price =json['candidates'][0]['price_level'])\n",
    "    \n",
    "    print(\"Restaurants Remaining: {:4}\".format(len(grand_master_list)-i), end=\"\\r\",flush=True)\n",
    "    \n",
    "    i+=1\n",
    "\n",
    "print(f'Google match has been completed...',flush=True)"
   ]
  },
  {
   "cell_type": "code",
   "execution_count": 29,
   "metadata": {
    "ExecuteTime": {
     "end_time": "2020-03-04T05:22:49.702154Z",
     "start_time": "2020-03-04T05:22:49.686199Z"
    }
   },
   "outputs": [],
   "source": [
    "master_df=pd.DataFrame(grand_master_list)\n"
   ]
  },
  {
   "cell_type": "code",
   "execution_count": 30,
   "metadata": {
    "ExecuteTime": {
     "end_time": "2020-03-04T05:22:54.254699Z",
     "start_time": "2020-03-04T05:22:54.140004Z"
    }
   },
   "outputs": [],
   "source": [
    "# Create a new Aggregate Score and Review Count  based on Yelp Rating and Google Rating and add Column to the DataFrame\n",
    "\n",
    "\n",
    "# Function that computes the weighted rating of each restaurant\n",
    "def aggregate_rating (x):\n",
    "    yelp_reviews = x['yelp_reviews']\n",
    "    yelp_rating = x['yelp_rating']\n",
    "    google_reviews = x['google_reviews']\n",
    "    google_rating = x['google_rating']\n",
    "    # Calculation\n",
    "    return ((yelp_rating*yelp_reviews)+(google_rating*google_reviews))/(yelp_reviews+google_reviews)\n",
    "\n",
    "def total_reviews (x):\n",
    "    yelp_reviews = x['yelp_reviews']\n",
    "    google_reviews = x['google_reviews']\n",
    "    return yelp_reviews+google_reviews\n",
    "\n",
    "master_df['agg_rating'] = master_df.apply(aggregate_rating, axis=1)\n",
    "master_df['total_reviews'] = master_df.apply(total_reviews, axis=1)\n",
    "master_df.agg_rating =master_df.agg_rating.round(2)\n"
   ]
  },
  {
   "cell_type": "code",
   "execution_count": 36,
   "metadata": {
    "ExecuteTime": {
     "end_time": "2020-03-04T05:49:13.272103Z",
     "start_time": "2020-03-04T05:49:13.268114Z"
    }
   },
   "outputs": [],
   "source": [
    "#Postgres username, password, and database name\n",
    "ipaddress = 'localhost'\n",
    "port = '5432'\n",
    "username = username\n",
    "password = password \n",
    "dbname = 'Minneapolis_Restaurants'\n",
    "# A long string that contains the necessary Postgres login information\n",
    "postgres_str = f'postgresql://{username}:{password}@{ipaddress}:{port}/{dbname}'"
   ]
  },
  {
   "cell_type": "code",
   "execution_count": 37,
   "metadata": {
    "ExecuteTime": {
     "end_time": "2020-03-04T05:49:20.611622Z",
     "start_time": "2020-03-04T05:49:19.887559Z"
    }
   },
   "outputs": [
    {
     "name": "stdout",
     "output_type": "stream",
     "text": [
      "Table \"grandmasterdata\" uploaded to postgreSQL database \"Minneapolis_Restaurants\".\n",
      "---------------\n"
     ]
    }
   ],
   "source": [
    "# Creates Classes which will serve as the anchor points for our Table, loads table to Postgres and uplads the data\n",
    "\n",
    "Base = declarative_base()\n",
    "engine = create_engine(postgres_str)\n",
    "\n",
    "class GrandMasterData(Base):\n",
    "    __tablename__ = 'grandmasterdata'\n",
    "    index=Column(Integer,primary_key=True,autoincrement=True)\n",
    "    inspect_name=Column(String,nullable=False)\n",
    "    inspect_address=Column(String)\n",
    "    inspectionidnumber=Column(String)\n",
    "    dateofinspection=Column(String)\n",
    "    inspectionscore=Column(String)\n",
    "    inspectiontype=Column(String)\n",
    "    yelp_id=Column(String,nullable=False)\n",
    "    yelp_name=Column(String)\n",
    "    yelp_url=Column(String)\n",
    "    yelp_price=Column(Integer)\n",
    "    latitude=Column(Float(20))\n",
    "    longitude=Column(Float(20))\n",
    "    yelp_phone=Column(String)\n",
    "    yelp_address=Column(String)\n",
    "    yelp_categories=Column(String)\n",
    "    yelp_transactions=Column(String)\n",
    "    yelp_rating=Column(Float(10))\n",
    "    yelp_reviews=Column(Integer)\n",
    "    google_name=Column(String)\n",
    "    google_id=Column(String)\n",
    "    google_rating=Column(Float(10))\n",
    "    google_reviews=Column(Integer)\n",
    "    google_price=Column(Integer)\n",
    "    agg_rating=Column(Float)\n",
    "    total_reviews=Column(Float)\n",
    "                   \n",
    "Base.metadata.create_all(engine)\n",
    "\n",
    "master_df.to_sql('grandmasterdata', engine, if_exists='replace', index=True)\n",
    "\n",
    "print(f'Table \"grandmasterdata\" uploaded to postgreSQL database \"Minneapolis_Restaurants\".',flush=True)\n",
    "print('---------------')"
   ]
  },
  {
   "cell_type": "code",
   "execution_count": 17,
   "metadata": {
    "ExecuteTime": {
     "end_time": "2020-03-04T01:34:55.595226Z",
     "start_time": "2020-03-04T01:34:36.105521Z"
    }
   },
   "outputs": [
    {
     "name": "stdout",
     "output_type": "stream",
     "text": [
      "Table \"inspectionsdetail\" uploaded to postgreSQL database \"Minneapolis_Restaurants\".\n",
      "---------------\n",
      "DONE.  Don't forget to fix the SQL data types! Use the DataTypeChange script to fix your Minneapolis_Restaurants DB\n"
     ]
    }
   ],
   "source": [
    "# Creates Classes which will serve as the anchor points for our Table, loads table to Postgres and uplads the data\n",
    "\n",
    "Base = declarative_base()\n",
    "engine = create_engine(postgres_str)\n",
    "\n",
    "class InspectionsDetail(Base):\n",
    "    __tablename__ = 'inspectionsdetail'\n",
    "    inspectionidnumber=Column(String,primary_key=True)\n",
    "    dateofinspection=Column(String)\n",
    "    businessname=Column(String)\n",
    "    fulladdress=Column(String)\n",
    "    inspectiontype=Column(String)\n",
    "    inspectionscore=Column(String)\n",
    "    inspectionresult=Column(String)\n",
    "    foodcodeitem=Column(String)\n",
    "    foodcodetext=Column(String)\n",
    "    inspectorcomments=Column(String)\n",
    "    violationpriority=Column(String)\n",
    "    violationstatus=Column(String)\n",
    "    violationpoints=Column(String)\n",
    "                   \n",
    "Base.metadata.create_all(engine)\n",
    "\n",
    "inspections_detail.to_sql('inspectionsdetail', engine, if_exists='replace', index=True)\n",
    "\n",
    "print(f'Table \"inspectionsdetail\" uploaded to postgreSQL database \"Minneapolis_Restaurants\".',flush=True)\n",
    "print('---------------',flush=True)\n",
    "print(\"DONE.  Don't forget to fix the SQL data types! Use the DataTypeChange script to fix your Minneapolis_Restaurants DB\",flush=True)"
   ]
  }
 ],
 "metadata": {
  "kernelspec": {
   "display_name": "Python 3",
   "language": "python",
   "name": "python3"
  },
  "language_info": {
   "codemirror_mode": {
    "name": "ipython",
    "version": 3
   },
   "file_extension": ".py",
   "mimetype": "text/x-python",
   "name": "python",
   "nbconvert_exporter": "python",
   "pygments_lexer": "ipython3",
   "version": "3.7.4"
  }
 },
 "nbformat": 4,
 "nbformat_minor": 2
}
